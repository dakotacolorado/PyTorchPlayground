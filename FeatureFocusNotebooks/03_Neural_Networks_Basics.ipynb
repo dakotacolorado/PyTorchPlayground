{
 "cells": [
  {
   "cell_type": "markdown",
   "source": [
    "# 3 Neural Network Basics\n",
    "**Objective:** Explore the basics of neural networks and how to build them using PyTorch."
   ],
   "metadata": {
    "collapsed": false
   }
  },
  {
   "cell_type": "code",
   "execution_count": 4,
   "outputs": [],
   "source": [
    "from dataclasses import dataclass\n",
    "\n",
    "from chinese_checkers.simulation.GameSimulationCatalog import GameSimulationCatalog\n",
    "from chinese_checkers.game.ChineseCheckersGame import ChineseCheckersGame\n",
    "from torch import tensor, stack, zeros_like"
   ],
   "metadata": {
    "collapsed": false,
    "ExecuteTime": {
     "end_time": "2023-10-30T05:18:35.154753900Z",
     "start_time": "2023-10-30T05:18:35.138220900Z"
    }
   }
  },
  {
   "cell_type": "markdown",
   "source": [],
   "metadata": {
    "collapsed": false
   }
  },
  {
   "cell_type": "code",
   "execution_count": 5,
   "outputs": [],
   "source": [
    "# encoding function from 02_Data_Preprocessing.ipynb\n",
    "def generate_tensor_for_game(game: ChineseCheckersGame) -> tensor:\n",
    "    all_positions = game.board.hexagram_points\n",
    "    encoded_state = tensor([\n",
    "        [\n",
    "            1 if position in player.positions else 0\n",
    "            for position in all_positions\n",
    "        ]\n",
    "        for player in game.players\n",
    "    ])\n",
    "\n",
    "    return encoded_state"
   ],
   "metadata": {
    "collapsed": false,
    "ExecuteTime": {
     "end_time": "2023-10-30T05:18:35.903170300Z",
     "start_time": "2023-10-30T05:18:35.898930400Z"
    }
   }
  },
  {
   "cell_type": "markdown",
   "source": [
    "### 2.1 Neural Network Approach for Chinese Checkers\n",
    "\n",
    "#### Objective:\n",
    "Train a model to assess the probability of a win for each player based on a given game state in Chinese Checkers.\n",
    "\n",
    "#### **Structure**:\n",
    "\n",
    "1. **Input Layer**:\n",
    "    - Represents the game state. Depending on the representation, this could be a one-dimensional array (flattened) or a two-dimensional grid resembling the board.\n",
    "\n",
    "2. **Output Layer**:\n",
    "    - Comprises two neurons, one for each player. Each produces a score indicating the likelihood of that player winning from the given game state.\n",
    "    - Scores are continuous values between 0 (certain loss) and 1 (certain win).\n",
    "\n",
    "3. **Scoring Mechanism**:\n",
    "    - For a given game state, if Player 1's neuron outputs a score of `x`, then Player 2's score is `1 - x`. This ensures the scores are complementary and the sum is always 1.\n",
    "    - Early in the game, scores are expected to be close to 0.5 for both players, indicating no clear advantage.\n",
    "\n",
    "#### **Training**:\n",
    "\n",
    "1. **Data Collection**:\n",
    "    - Amass a large dataset of game states with their outcomes, either through simulation or from historical data.\n",
    "\n",
    "2. **Labeling**:\n",
    "    - Assign scores to each game state for each player. This score denotes the probability of each player winning from that state.\n",
    "\n",
    "3. **Optimization**:\n",
    "    - Employ an appropriate loss function, such as mean squared error, to train the neural network.\n",
    "    - The training goal is to minimize the difference between the predicted scores and the true outcomes of the game states.\n",
    "\n",
    "#### **Interpretation**:\n",
    "\n",
    "- A score closer to 1 for Player 1 denotes a high likelihood of Player 1 winning from that state. Conversely, a score near 0 signifies a higher chance for Player 2's victory.\n"
   ],
   "metadata": {
    "collapsed": false
   }
  },
  {
   "cell_type": "code",
   "execution_count": 6,
   "outputs": [],
   "source": [
    "@dataclass()\n",
    "class GameLabel:\n",
    "    player_1_wins: int = 0\n",
    "    player_2_wins: int = 0\n",
    "\n",
    "    def update_player_wins(self, player_index):\n",
    "        if player_index == 0:\n",
    "            self.player_1_wins += 1\n",
    "        elif player_index == 3:\n",
    "            self.player_2_wins += 1"
   ],
   "metadata": {
    "collapsed": false,
    "ExecuteTime": {
     "end_time": "2023-10-30T05:18:36.558983500Z",
     "start_time": "2023-10-30T05:18:36.546190Z"
    }
   }
  },
  {
   "cell_type": "code",
   "execution_count": 9,
   "outputs": [
    {
     "name": "stderr",
     "output_type": "stream",
     "text": [
      "2023-10-29 22:27:06,070 - Initialized GameSimulationCatalog at D:\\chinese_checkers_games\n",
      "2023-10-29 22:27:21,164 - Processed 1000 simulations.\n",
      "2023-10-29 22:27:35,943 - Processed 2000 simulations.\n",
      "2023-10-29 22:27:50,341 - Processed 3000 simulations.\n",
      "2023-10-29 22:28:03,845 - Processed 4000 simulations.\n",
      "2023-10-29 22:28:17,688 - Processed 5000 simulations.\n",
      "2023-10-29 22:28:31,873 - Processed 6000 simulations.\n",
      "2023-10-29 22:28:46,323 - Processed 7000 simulations.\n",
      "2023-10-29 22:29:01,341 - Processed 8000 simulations.\n",
      "2023-10-29 22:29:13,762 - Processed 9000 simulations.\n",
      "2023-10-29 22:29:29,500 - Processed 10000 simulations.\n",
      "2023-10-29 22:29:29,534 - Time taken to process one metadata: 141.2942 seconds\n",
      "2023-10-29 22:29:41,912 - Processed 1000 simulations.\n",
      "2023-10-29 22:29:58,069 - Processed 2000 simulations.\n",
      "2023-10-29 22:30:10,258 - Processed 3000 simulations.\n",
      "2023-10-29 22:30:27,405 - Processed 4000 simulations.\n",
      "2023-10-29 22:30:39,958 - Processed 5000 simulations.\n",
      "2023-10-29 22:30:52,440 - Processed 6000 simulations.\n",
      "2023-10-29 22:31:10,750 - Processed 7000 simulations.\n",
      "2023-10-29 22:31:23,746 - Processed 8000 simulations.\n",
      "2023-10-29 22:31:36,247 - Processed 9000 simulations.\n",
      "2023-10-29 22:31:55,870 - Processed 10000 simulations.\n",
      "2023-10-29 22:31:55,912 - Time taken to process one metadata: 146.3770 seconds\n"
     ]
    }
   ],
   "source": [
    "import logging\n",
    "import time\n",
    "\n",
    "# Setup logging configuration\n",
    "logging.basicConfig(level=logging.INFO, format='%(asctime)s - %(message)s')\n",
    "\n",
    "catalog = GameSimulationCatalog(\"D:\\chinese_checkers_games\")\n",
    "metadata_list = catalog.list_available_metadata()\n",
    "\n",
    "game_labels = {}\n",
    "\n",
    "for metadata in metadata_list:\n",
    "    if metadata.version == \"1.0\":\n",
    "        game_winner = metadata.winning_player\n",
    "        game_winner_key = \"player_1_wins\" if game_winner == 0 else \"player_2_wins\"\n",
    "\n",
    "        # Start the timer\n",
    "        start_time = time.time()\n",
    "\n",
    "        simulation_count = 0\n",
    "\n",
    "        for simulation in catalog.load_simulations_by_metadata(metadata):\n",
    "            for game in set(simulation.to_game_sequence()):\n",
    "                if game not in game_labels:\n",
    "                    game_labels[game] = GameLabel()\n",
    "                game_labels[game].update_player_wins(game_winner)\n",
    "\n",
    "            simulation_count += 1\n",
    "            if simulation_count % 1000 == 0:\n",
    "                logging.info(f\"Processed {simulation_count} simulations.\")\n",
    "            if simulation_count == 10000:\n",
    "                break\n",
    "\n",
    "        # Calculate the time taken to process one metadata\n",
    "        end_time = time.time()\n",
    "        elapsed_time = end_time - start_time\n",
    "        logging.info(f\"Time taken to process one metadata: {elapsed_time:.4f} seconds\")"
   ],
   "metadata": {
    "collapsed": false,
    "ExecuteTime": {
     "end_time": "2023-10-30T05:31:55.937134800Z",
     "start_time": "2023-10-30T05:27:06.070712800Z"
    }
   }
  },
  {
   "cell_type": "code",
   "execution_count": 5,
   "outputs": [
    {
     "ename": "MemoryError",
     "evalue": "",
     "output_type": "error",
     "traceback": [
      "\u001B[1;31m---------------------------------------------------------------------------\u001B[0m",
      "\u001B[1;31mMemoryError\u001B[0m                               Traceback (most recent call last)",
      "Cell \u001B[1;32mIn[5], line 4\u001B[0m\n\u001B[0;32m      1\u001B[0m \u001B[38;5;28;01mimport\u001B[39;00m \u001B[38;5;21;01mpickle\u001B[39;00m\n\u001B[0;32m      3\u001B[0m \u001B[38;5;28;01mwith\u001B[39;00m \u001B[38;5;28mopen\u001B[39m(\u001B[38;5;124m\"\u001B[39m\u001B[38;5;124mD:\u001B[39m\u001B[38;5;124m\\\u001B[39m\u001B[38;5;124mgame_labels.pkl\u001B[39m\u001B[38;5;124m\"\u001B[39m, \u001B[38;5;124m\"\u001B[39m\u001B[38;5;124mwb\u001B[39m\u001B[38;5;124m\"\u001B[39m) \u001B[38;5;28;01mas\u001B[39;00m file:\n\u001B[1;32m----> 4\u001B[0m     \u001B[43mpickle\u001B[49m\u001B[38;5;241;43m.\u001B[39;49m\u001B[43mdump\u001B[49m\u001B[43m(\u001B[49m\u001B[43mgame_labels\u001B[49m\u001B[43m,\u001B[49m\u001B[43m \u001B[49m\u001B[43mfile\u001B[49m\u001B[43m)\u001B[49m\n",
      "\u001B[1;31mMemoryError\u001B[0m: "
     ]
    }
   ],
   "source": [
    "import pickle\n",
    "\n",
    "with open(\"D:\\game_labels.pkl\", \"wb\") as file:\n",
    "    pickle.dump(game_labels, file)"
   ],
   "metadata": {
    "collapsed": false,
    "ExecuteTime": {
     "end_time": "2023-10-30T01:12:41.744017500Z",
     "start_time": "2023-10-30T01:12:31.914029300Z"
    }
   }
  },
  {
   "cell_type": "markdown",
   "source": [
    "So the hashing approach is not working.  It takes wayyy too much memory. We will need to find a game hashing function that is more efficient and does not waste memory.  I will consider Zobrist Hashing and see what refactoring I can do to the Chinese Checkers package to support easier data access and effective hashing."
   ],
   "metadata": {
    "collapsed": false
   }
  }
 ],
 "metadata": {
  "kernelspec": {
   "display_name": "Python 3",
   "language": "python",
   "name": "python3"
  },
  "language_info": {
   "codemirror_mode": {
    "name": "ipython",
    "version": 2
   },
   "file_extension": ".py",
   "mimetype": "text/x-python",
   "name": "python",
   "nbconvert_exporter": "python",
   "pygments_lexer": "ipython2",
   "version": "2.7.6"
  }
 },
 "nbformat": 4,
 "nbformat_minor": 0
}
