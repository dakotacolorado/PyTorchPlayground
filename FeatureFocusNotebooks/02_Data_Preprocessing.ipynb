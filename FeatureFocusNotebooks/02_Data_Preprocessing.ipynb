{
 "cells": [
  {
   "cell_type": "markdown",
   "source": [
    "# 2 Data Preprocessing\n",
    "**Objective:** Learn how data needs to be represented for machine learning algorithms to be applied."
   ],
   "metadata": {
    "collapsed": false
   }
  },
  {
   "cell_type": "code",
   "execution_count": 1,
   "outputs": [],
   "source": [
    "from chinese_checkers.game.ChineseCheckersGame import ChineseCheckersGame\n",
    "from chinese_checkers.model.CentroidModel import CentroidModel\n",
    "from chinese_checkers.simulation.GameSimulation import GameSimulation\n",
    "\n",
    "from torch.utils.data import Dataset, DataLoader\n",
    "from torch import tensor, zeros, save, stack\n",
    "\n",
    "from typing import List, Tuple"
   ],
   "metadata": {
    "collapsed": false,
    "ExecuteTime": {
     "end_time": "2023-10-16T07:30:58.310269900Z",
     "start_time": "2023-10-16T07:30:55.302399600Z"
    }
   }
  },
  {
   "cell_type": "markdown",
   "source": [
    "## 2.1 State Representation\n",
    "\n",
    "To represent the `ChineseCheckersGame` state for PyTorch consumption, we must transform the board into a one-hot encoded vector. For a given position on the board, we'll represent each potential player's piece using a binary value: 1 if the player has a piece at that position and 0 otherwise.\n",
    "\n",
    "Given this, for a board of size `s` with `n` players, the length of our one-hot encoded state vector will be $s \\times n$.\n",
    "\n",
    "For clarity, the one-hot encoded representation is defined as:\n",
    "\n",
    "$$\n",
    "p_{i,j} =\n",
    "\\begin{cases}\n",
    "1 & \\ \\text{if player } j \\text{ has a piece at position } i,\\\\\n",
    "0 & \\ \\text{otherwise.}\n",
    "\\end{cases}\n",
    "$$\n",
    "\n",
    "We'll begin by focusing on a board of size 4 with 2 players. Later, we can extend our approach to accommodate different board sizes and player counts.\n"
   ],
   "metadata": {
    "collapsed": false
   }
  },
  {
   "cell_type": "code",
   "execution_count": 2,
   "outputs": [
    {
     "name": "stdout",
     "output_type": "stream",
     "text": [
      "tensor([[0, 0, 0, 0, 0, 0, 0, 0, 0, 0, 1, 0, 0, 0, 0, 1, 0, 0, 0, 0, 0, 0, 0, 0,\n",
      "         0, 0, 0, 0, 0, 0, 0, 0, 0, 0, 0, 0, 0, 0, 0, 0, 0, 0, 0, 1, 0, 0, 0, 0,\n",
      "         0, 0, 0, 0, 1, 0, 0, 0, 0, 0, 0, 0, 0, 0, 0, 0, 0, 0, 0, 0, 0, 0, 0, 0,\n",
      "         0, 0, 0, 0, 0, 0, 0, 0, 0, 0, 1, 1, 0, 0, 0, 1, 1, 0, 0, 0, 1, 1, 0, 0,\n",
      "         0, 0, 0, 0, 0, 0, 0, 0, 0, 0, 0, 0, 0, 0, 0, 0, 0, 0, 0, 0, 0, 0, 0, 0,\n",
      "         0],\n",
      "        [0, 0, 0, 0, 0, 0, 0, 0, 0, 0, 0, 0, 0, 0, 0, 0, 0, 0, 0, 0, 0, 0, 0, 0,\n",
      "         0, 0, 0, 1, 0, 0, 0, 0, 0, 0, 0, 0, 0, 1, 1, 0, 0, 0, 0, 0, 1, 0, 0, 0,\n",
      "         0, 1, 0, 0, 0, 0, 0, 0, 1, 0, 0, 0, 0, 0, 0, 0, 0, 0, 0, 0, 0, 0, 0, 0,\n",
      "         0, 0, 0, 0, 0, 1, 0, 0, 0, 0, 0, 0, 0, 0, 0, 0, 0, 1, 0, 0, 0, 0, 1, 0,\n",
      "         0, 0, 0, 0, 0, 0, 0, 0, 0, 0, 0, 0, 0, 0, 0, 0, 0, 0, 0, 0, 0, 0, 1, 0,\n",
      "         0]])\n"
     ]
    }
   ],
   "source": [
    "def encode_game(game: ChineseCheckersGame) -> tensor:\n",
    "    all_positions = game.board.hexagram_points\n",
    "    encoded_state = tensor([\n",
    "        [\n",
    "            1 if position in player.positions else 0\n",
    "            for position in all_positions\n",
    "        ]\n",
    "        for player in game.players\n",
    "    ])\n",
    "\n",
    "    return encoded_state\n",
    "\n",
    "game = ChineseCheckersGame.start_game(number_of_players=2, board_size=4)\n",
    "game_state = encode_game(game)\n",
    "print(game_state)"
   ],
   "metadata": {
    "collapsed": false,
    "ExecuteTime": {
     "end_time": "2023-10-16T07:31:00.079375300Z",
     "start_time": "2023-10-16T07:31:00.041449800Z"
    }
   }
  },
  {
   "cell_type": "code",
   "execution_count": 3,
   "outputs": [
    {
     "data": {
      "text/plain": "torch.Size([2, 121])"
     },
     "metadata": {},
     "output_type": "display_data"
    },
    {
     "data": {
      "text/plain": "(2, 121)"
     },
     "execution_count": 3,
     "metadata": {},
     "output_type": "execute_result"
    }
   ],
   "source": [
    "def encoded_game_shape(game: ChineseCheckersGame) -> Tuple[int, int]:\n",
    "    all_positions = game.board.hexagram_points\n",
    "    player_count = len(game.players)\n",
    "    return (player_count, len(all_positions))\n",
    "\n",
    "display(game_state.size())\n",
    "encoded_game_shape(game)"
   ],
   "metadata": {
    "collapsed": false,
    "ExecuteTime": {
     "end_time": "2023-10-16T07:31:00.683235100Z",
     "start_time": "2023-10-16T07:31:00.642392800Z"
    }
   }
  },
  {
   "cell_type": "markdown",
   "source": [
    "## 2.2 Encoding Sequence of Game States\n",
    "\n",
    "With the capability to encode individual game states, our next step is encoding sequences of game states that represent an entire game. To ensure consistency, we'll set a limit of 400 turns for each game. Each game state within this sequence will occupy a row in our matrix.\n",
    "\n",
    "In cases where a game concludes before reaching the 400-turn limit, we'll pad the matrix with rows of zeros until it reaches the desired size. This ensures that each game, regardless of its duration, results in a consistent-sized matrix which can be efficiently processed by PyTorch."
   ],
   "metadata": {
    "collapsed": false
   }
  },
  {
   "cell_type": "code",
   "execution_count": 4,
   "outputs": [
    {
     "name": "stdout",
     "output_type": "stream",
     "text": [
      "No. of turns: 337\n",
      "torch.Size([400, 2, 121])\n"
     ]
    }
   ],
   "source": [
    "def encode_game_states(game_sequence: List[ChineseCheckersGame], max_turns):\n",
    "    game_shape = encoded_game_shape(game_sequence[0])\n",
    "    encoded_states_matrix = zeros(max_turns, game_shape[0], game_shape[1])\n",
    "\n",
    "    # Encode each game state and populate the matrix\n",
    "    for i, game_state in enumerate(game_sequence):\n",
    "        encoded_states_matrix[i] = encode_game(game_state)\n",
    "\n",
    "    return encoded_states_matrix\n",
    "\n",
    "# Example usage:\n",
    "simulation = GameSimulation([CentroidModel(), CentroidModel()], max_turns=400)\n",
    "games = simulation.simulate_game()\n",
    "print(f\"No. of turns: {len(games)}\")\n",
    "\n",
    "encoded_matrix = encode_game_states(games, simulation.max_turns)\n",
    "print(encoded_matrix.size())"
   ],
   "metadata": {
    "collapsed": false,
    "ExecuteTime": {
     "end_time": "2023-10-16T07:31:03.940682800Z",
     "start_time": "2023-10-16T07:31:02.522935700Z"
    }
   }
  },
  {
   "cell_type": "markdown",
   "source": [
    "## 2.3 Generating Data for Training\n",
    "Run a lot of naive simulations and save the results to a file. This will be our training data."
   ],
   "metadata": {
    "collapsed": false
   }
  },
  {
   "cell_type": "code",
   "execution_count": 5,
   "outputs": [
    {
     "name": "stdout",
     "output_type": "stream",
     "text": [
      "Game 9 failed: No next move found\n",
      "[0, 1, 0, 0, 1, 0, 0, 0, 0, 1]\n",
      "Saved 10 games\n",
      "Game 13 failed: 'NoneType' object is not subscriptable\n",
      "Game 18 failed: 'NoneType' object is not subscriptable\n"
     ]
    }
   ],
   "source": [
    "# TODO: This is a bit of a mess. Clean it up. Also, we should refactor the game to return None if the game is a draw (instead of throwing an error).  We can then use this to filter out draws from our training data.\n",
    "\n",
    "simulated_games = []\n",
    "labels = []\n",
    "save_size = 10\n",
    "\n",
    "for i in range(20):\n",
    "    simulation = GameSimulation([CentroidModel(), CentroidModel()], max_turns=400)\n",
    "    try:\n",
    "        games = simulation.simulate_game()\n",
    "        encoded_matrix = encode_game_states(games, simulation.max_turns)\n",
    "        simulated_games.append(encoded_matrix)\n",
    "        labels.append(0 if games[-1].get_current_player().player_id == 'Player 0' else 1)\n",
    "        if i % save_size == 0 and i > 0:\n",
    "            print(labels)\n",
    "            game_states_tensor = stack(simulated_games)\n",
    "            labels_tensor = tensor(labels)\n",
    "            save(game_states_tensor, f\"../TrainingData/game_states_{i}.pt\")\n",
    "            save(labels_tensor, f\"../TrainingData/labels{i}.pt\")\n",
    "            print(f\"Saved {len(simulated_games)} games\")\n",
    "            simulated_games = []\n",
    "            labels = []\n",
    "    except Exception as e:\n",
    "        print(f\"Game {i} failed: {e}\")\n",
    "        continue"
   ],
   "metadata": {
    "collapsed": false,
    "ExecuteTime": {
     "end_time": "2023-10-16T07:31:28.119037200Z",
     "start_time": "2023-10-16T07:31:05.860618500Z"
    }
   }
  }
 ],
 "metadata": {
  "kernelspec": {
   "display_name": "Python 3",
   "language": "python",
   "name": "python3"
  },
  "language_info": {
   "codemirror_mode": {
    "name": "ipython",
    "version": 2
   },
   "file_extension": ".py",
   "mimetype": "text/x-python",
   "name": "python",
   "nbconvert_exporter": "python",
   "pygments_lexer": "ipython2",
   "version": "2.7.6"
  }
 },
 "nbformat": 4,
 "nbformat_minor": 0
}
